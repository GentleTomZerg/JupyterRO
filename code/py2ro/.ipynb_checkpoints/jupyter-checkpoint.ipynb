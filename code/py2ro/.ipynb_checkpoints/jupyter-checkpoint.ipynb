{
 "cells": [
  {
   "cell_type": "markdown",
   "id": "9a9b7b1a",
   "metadata": {},
   "source": [
    " This is method a it prints Process a"
   ]
  },
  {
   "cell_type": "code",
   "execution_count": null,
   "id": "fb39ac73",
   "metadata": {},
   "outputs": [],
   "source": [
    "from roanno import cell, rocrate"
   ]
  },
  {
   "cell_type": "code",
   "execution_count": 0,
   "id": "effd95c2",
   "metadata": {
    "collapsed": true,
    "scrolled": false
   },
   "outputs": [],
   "source": [
    "@cell \n",
    "def a():\n",
    "    print(\"Process a\");\n"
   ]
  },
  {
   "cell_type": "code",
   "execution_count": 0,
   "id": "5de32860",
   "metadata": {
    "collapsed": true,
    "scrolled": false
   },
   "outputs": [],
   "source": [
    "a()"
   ]
  },
  {
   "cell_type": "code",
   "execution_count": 0,
   "id": "8e653776",
   "metadata": {
    "collapsed": true,
    "scrolled": false
   },
   "outputs": [],
   "source": [
    "@cell\n",
    "def b():\n",
    "    print(\"Process b\");\n"
   ]
  },
  {
   "cell_type": "code",
   "execution_count": 0,
   "id": "216129ab",
   "metadata": {
    "collapsed": true,
    "scrolled": false
   },
   "outputs": [],
   "source": [
    "b()"
   ]
  },
  {
   "cell_type": "code",
   "execution_count": 0,
   "id": "8baf7bdd",
   "metadata": {
    "collapsed": true,
    "scrolled": false
   },
   "outputs": [],
   "source": [
    "@cell\n",
    "def c():\n",
    "    print(\"Process c\");\n"
   ]
  },
  {
   "cell_type": "code",
   "execution_count": 0,
   "id": "91829fba",
   "metadata": {
    "collapsed": true,
    "scrolled": false
   },
   "outputs": [],
   "source": [
    "c()"
   ]
  },
  {
   "cell_type": "markdown",
   "id": "01a5fe03",
   "metadata": {},
   "source": [
    " aaaaaa "
   ]
  },
  {
   "cell_type": "code",
   "execution_count": 0,
   "id": "5d54e79d",
   "metadata": {
    "collapsed": true,
    "scrolled": false
   },
   "outputs": [],
   "source": [
    "@cell \n",
    "def d():\n",
    "    print(\"Process a\")\n"
   ]
  },
  {
   "cell_type": "code",
   "execution_count": 0,
   "id": "89d1af68",
   "metadata": {
    "collapsed": true,
    "scrolled": false
   },
   "outputs": [],
   "source": [
    "d()"
   ]
  },
  {
   "cell_type": "code",
   "execution_count": 0,
   "id": "33a58dc1",
   "metadata": {
    "collapsed": true,
    "scrolled": false
   },
   "outputs": [],
   "source": [
    "@cell\n",
    "def e():\n",
    "    print(\"Process b\")\n"
   ]
  },
  {
   "cell_type": "code",
   "execution_count": 0,
   "id": "06feffdf",
   "metadata": {
    "collapsed": true,
    "scrolled": false
   },
   "outputs": [],
   "source": [
    "e()"
   ]
  },
  {
   "cell_type": "code",
   "execution_count": 0,
   "id": "7e4368aa",
   "metadata": {
    "collapsed": true,
    "scrolled": false
   },
   "outputs": [],
   "source": [
    "@rocrate    \n",
    "@cell\n",
    "def f():\n",
    "    print(\"Process c\")\n",
    "    e()    \n"
   ]
  },
  {
   "cell_type": "code",
   "execution_count": 0,
   "id": "ced17d0b",
   "metadata": {
    "collapsed": true,
    "scrolled": false
   },
   "outputs": [],
   "source": [
    "f()"
   ]
  }
 ],
 "metadata": {
  "kernelspec": {
   "display_name": "Python 3 (ipykernel)",
   "language": "python",
   "name": "python3"
  },
  "language_info": {
   "codemirror_mode": {
    "name": "ipython",
    "version": 3
   },
   "file_extension": ".py",
   "mimetype": "text/x-python",
   "name": "python",
   "nbconvert_exporter": "python",
   "pygments_lexer": "ipython3",
   "version": "3.8.10"
  }
 },
 "nbformat": 4,
 "nbformat_minor": 5
}
