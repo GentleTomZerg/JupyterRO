{
 "cells": [
  {
   "cell_type": "markdown",
   "id": "6d8c4158",
   "metadata": {},
   "source": [
    " This is method a it prints Process a"
   ]
  },
  {
   "cell_type": "code",
   "execution_count": 3,
   "id": "a8496e31",
   "metadata": {},
   "outputs": [],
   "source": [
    "from roanno import cell, rocrate"
   ]
  },
  {
   "cell_type": "code",
   "execution_count": 4,
   "id": "458d398c",
   "metadata": {
    "scrolled": false
   },
   "outputs": [],
   "source": [
    "@cell \n",
    "def a():\n",
    "    print(\"Process a\");\n"
   ]
  },
  {
   "cell_type": "code",
   "execution_count": 5,
   "id": "1f565c97",
   "metadata": {
    "scrolled": false
   },
   "outputs": [
    {
     "name": "stdout",
     "output_type": "stream",
     "text": [
      "Process a\n"
     ]
    }
   ],
   "source": [
    "a()"
   ]
  },
  {
   "cell_type": "code",
   "execution_count": 6,
   "id": "83cef88b",
   "metadata": {
    "scrolled": false
   },
   "outputs": [],
   "source": [
    "@cell\n",
    "def b():\n",
    "    print(\"Process b\");\n"
   ]
  },
  {
   "cell_type": "code",
   "execution_count": 7,
   "id": "85e5cb31",
   "metadata": {
    "scrolled": false
   },
   "outputs": [
    {
     "name": "stdout",
     "output_type": "stream",
     "text": [
      "Process b\n"
     ]
    }
   ],
   "source": [
    "b()"
   ]
  },
  {
   "cell_type": "code",
   "execution_count": 8,
   "id": "077c7871",
   "metadata": {
    "scrolled": false
   },
   "outputs": [],
   "source": [
    "@cell\n",
    "def c():\n",
    "    print(\"Process c\");\n",
    "    print(\"cccccccccccccccc\")\n"
   ]
  },
  {
   "cell_type": "code",
   "execution_count": 9,
   "id": "36ed38a9",
   "metadata": {
    "scrolled": false
   },
   "outputs": [
    {
     "name": "stdout",
     "output_type": "stream",
     "text": [
      "Process c\n",
      "cccccccccccccccc\n"
     ]
    }
   ],
   "source": [
    "c()"
   ]
  },
  {
   "cell_type": "markdown",
   "id": "ad736ca1",
   "metadata": {},
   "source": [
    " aaaaaa "
   ]
  },
  {
   "cell_type": "code",
   "execution_count": 10,
   "id": "ed913260",
   "metadata": {
    "scrolled": false
   },
   "outputs": [],
   "source": [
    "@cell \n",
    "def d():\n",
    "    print(\"Process a\")\n"
   ]
  },
  {
   "cell_type": "code",
   "execution_count": 11,
   "id": "2ff63851",
   "metadata": {
    "scrolled": false
   },
   "outputs": [
    {
     "name": "stdout",
     "output_type": "stream",
     "text": [
      "Process a\n"
     ]
    }
   ],
   "source": [
    "d()"
   ]
  },
  {
   "cell_type": "code",
   "execution_count": 12,
   "id": "3c39d682",
   "metadata": {
    "scrolled": false
   },
   "outputs": [],
   "source": [
    "@cell\n",
    "def e():\n",
    "    print(\"Process b\")\n"
   ]
  },
  {
   "cell_type": "code",
   "execution_count": 13,
   "id": "dc4ad00a",
   "metadata": {
    "scrolled": false
   },
   "outputs": [
    {
     "name": "stdout",
     "output_type": "stream",
     "text": [
      "Process b\n"
     ]
    }
   ],
   "source": [
    "e()"
   ]
  },
  {
   "cell_type": "code",
   "execution_count": 14,
   "id": "83656bab",
   "metadata": {
    "scrolled": false
   },
   "outputs": [],
   "source": [
    "@rocrate    \n",
    "@cell\n",
    "def f():\n",
    "    print(\"Process c\")\n",
    "    e()    \n"
   ]
  },
  {
   "cell_type": "code",
   "execution_count": 15,
   "id": "f312ec5c",
   "metadata": {
    "scrolled": false
   },
   "outputs": [
    {
     "name": "stdout",
     "output_type": "stream",
     "text": [
      "Process c\n"
     ]
    }
   ],
   "source": [
    "f()"
   ]
  },
  {
   "cell_type": "code",
   "execution_count": null,
   "id": "b3f518a3",
   "metadata": {},
   "outputs": [],
   "source": []
  }
 ],
 "metadata": {
  "kernelspec": {
   "display_name": "Python 3 (ipykernel)",
   "language": "python",
   "name": "python3"
  },
  "language_info": {
   "codemirror_mode": {
    "name": "ipython",
    "version": 3
   },
   "file_extension": ".py",
   "mimetype": "text/x-python",
   "name": "python",
   "nbconvert_exporter": "python",
   "pygments_lexer": "ipython3",
   "version": "3.8.10"
  }
 },
 "nbformat": 4,
 "nbformat_minor": 5
}
