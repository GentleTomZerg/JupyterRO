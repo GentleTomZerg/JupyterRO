{
 "cells": [
  {
   "cell_type": "markdown",
   "id": "1b2b9117",
   "metadata": {},
   "source": [
    " This is method a it prints Process a"
   ]
  },
  {
   "cell_type": "code",
   "execution_count": 1,
   "id": "fbf4a84a",
   "metadata": {},
   "outputs": [],
   "source": [
    "from roanno import cell, rocrate"
   ]
  },
  {
   "cell_type": "code",
   "execution_count": 2,
   "id": "52f3dab4",
   "metadata": {
    "scrolled": false
   },
   "outputs": [],
   "source": [
    "@cell \n",
    "def a():\n",
    "    print(\"Process a\");\n"
   ]
  },
  {
   "cell_type": "code",
   "execution_count": 3,
   "id": "9765eb0c",
   "metadata": {
    "scrolled": false
   },
   "outputs": [
    {
     "name": "stdout",
     "output_type": "stream",
     "text": [
      "Process a\n"
     ]
    }
   ],
   "source": [
    "a()"
   ]
  },
  {
   "cell_type": "code",
   "execution_count": 4,
   "id": "e59f6d4b",
   "metadata": {
    "scrolled": false
   },
   "outputs": [],
   "source": [
    "@cell\n",
    "def b():\n",
    "    print(\"Process b\");\n",
    "    a()\n"
   ]
  },
  {
   "cell_type": "code",
   "execution_count": 5,
   "id": "35a8e604",
   "metadata": {
    "scrolled": false
   },
   "outputs": [
    {
     "name": "stdout",
     "output_type": "stream",
     "text": [
      "Process b\n",
      "Process a\n"
     ]
    }
   ],
   "source": [
    "b()"
   ]
  },
  {
   "cell_type": "markdown",
   "id": "d827587a",
   "metadata": {},
   "source": [
    " This is method c    "
   ]
  },
  {
   "cell_type": "code",
   "execution_count": 6,
   "id": "c53732fe",
   "metadata": {
    "scrolled": false
   },
   "outputs": [],
   "source": [
    "@cell\n",
    "def c():\n",
    "    print(\"Process c\");\n"
   ]
  },
  {
   "cell_type": "code",
   "execution_count": 7,
   "id": "73cf842e",
   "metadata": {
    "scrolled": false
   },
   "outputs": [
    {
     "name": "stdout",
     "output_type": "stream",
     "text": [
      "Process c\n"
     ]
    }
   ],
   "source": [
    "c()"
   ]
  },
  {
   "cell_type": "markdown",
   "id": "86ca5cfd",
   "metadata": {},
   "source": [
    " aaaaaa "
   ]
  },
  {
   "cell_type": "code",
   "execution_count": 8,
   "id": "7d2f6963",
   "metadata": {
    "scrolled": false
   },
   "outputs": [],
   "source": [
    "@cell \n",
    "def d():\n",
    "    print(\"Process dddddddddddd\")\n"
   ]
  },
  {
   "cell_type": "code",
   "execution_count": 9,
   "id": "21f6c518",
   "metadata": {
    "scrolled": false
   },
   "outputs": [
    {
     "name": "stdout",
     "output_type": "stream",
     "text": [
      "Process dddddddddddd\n"
     ]
    }
   ],
   "source": [
    "d()"
   ]
  },
  {
   "cell_type": "code",
   "execution_count": 10,
   "id": "7e368aa3",
   "metadata": {
    "scrolled": false
   },
   "outputs": [],
   "source": [
    "@cell\n",
    "def e():\n",
    "    print(\"Process b\")\n"
   ]
  },
  {
   "cell_type": "code",
   "execution_count": 11,
   "id": "c9fd3d44",
   "metadata": {
    "scrolled": false
   },
   "outputs": [
    {
     "name": "stdout",
     "output_type": "stream",
     "text": [
      "Process b\n"
     ]
    }
   ],
   "source": [
    "e()"
   ]
  },
  {
   "cell_type": "code",
   "execution_count": 12,
   "id": "71d9ba30",
   "metadata": {
    "scrolled": false
   },
   "outputs": [],
   "source": [
    "@rocrate    \n",
    "@cell\n",
    "def f():\n",
    "    print(\"Process c\")\n",
    "    e()    \n"
   ]
  },
  {
   "cell_type": "code",
   "execution_count": 13,
   "id": "40d6b00a",
   "metadata": {
    "scrolled": false
   },
   "outputs": [
    {
     "name": "stdout",
     "output_type": "stream",
     "text": [
      "Process c\n",
      "Process b\n"
     ]
    }
   ],
   "source": [
    "f()"
   ]
  },
  {
   "cell_type": "code",
   "execution_count": null,
   "id": "77b33cbb",
   "metadata": {},
   "outputs": [],
   "source": []
  }
 ],
 "metadata": {
  "kernelspec": {
   "display_name": "Python 3 (ipykernel)",
   "language": "python",
   "name": "python3"
  },
  "language_info": {
   "codemirror_mode": {
    "name": "ipython",
    "version": 3
   },
   "file_extension": ".py",
   "mimetype": "text/x-python",
   "name": "python",
   "nbconvert_exporter": "python",
   "pygments_lexer": "ipython3",
   "version": "3.8.10"
  }
 },
 "nbformat": 4,
 "nbformat_minor": 5
}
