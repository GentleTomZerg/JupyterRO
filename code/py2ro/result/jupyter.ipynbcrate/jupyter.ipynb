{
    "metadata": {
        "kernelspec": {
            "display_name": "Python 3 (ipykernel)",
            "language": "python",
            "name": "python3"
        },
        "language_info": {
            "codemirror_mode": {
                "name": "ipython",
                "version": 3
            },
            "file_extension": ".py",
            "mimetype": "text/x-python",
            "name": "python",
            "nbconvert_exporter": "python",
            "pygments_lexer": "ipython3",
            "version": "3.8.10"
        }
    },
    "nbformat": 4,
    "nbformat_minor": 5,
    "cells": [
        {
            "cell_type": "code",
            "execution_count": 0,
            "metadata": {
                "collapsed": true,
                "scrolled": false
            },
            "outputs": [],
            "source": " This is method a it prints Process a"
        },
        {
            "cell_type": "code",
            "execution_count": 0,
            "metadata": {
                "collapsed": true,
                "scrolled": false
            },
            "outputs": [],
            "source": " aaaaaa "
        },
        {
            "cell_type": "code",
            "execution_count": 0,
            "metadata": {
                "collapsed": true,
                "scrolled": false
            },
            "outputs": [],
            "source": "from roanno import cell, rocrate"
        },
        {
            "cell_type": "code",
            "execution_count": 0,
            "metadata": {
                "collapsed": true,
                "scrolled": false
            },
            "outputs": [],
            "source": "@cell \ndef a():\n    print(\"Process a\");\n"
        },
        {
            "cell_type": "code",
            "execution_count": 0,
            "metadata": {
                "collapsed": true,
                "scrolled": false
            },
            "outputs": [],
            "source": "a()"
        },
        {
            "cell_type": "code",
            "execution_count": 0,
            "metadata": {
                "collapsed": true,
                "scrolled": false
            },
            "outputs": [],
            "source": "@cell\ndef b():\n    print(\"Process b\");\n"
        },
        {
            "cell_type": "code",
            "execution_count": 0,
            "metadata": {
                "collapsed": true,
                "scrolled": false
            },
            "outputs": [],
            "source": "b()"
        },
        {
            "cell_type": "code",
            "execution_count": 0,
            "metadata": {
                "collapsed": true,
                "scrolled": false
            },
            "outputs": [],
            "source": "@cell\ndef c():\n    print(\"Process c\");\n"
        },
        {
            "cell_type": "code",
            "execution_count": 0,
            "metadata": {
                "collapsed": true,
                "scrolled": false
            },
            "outputs": [],
            "source": "c()"
        },
        {
            "cell_type": "code",
            "execution_count": 0,
            "metadata": {
                "collapsed": true,
                "scrolled": false
            },
            "outputs": [],
            "source": "@cell \ndef d():\n    print(\"Process d\")\n"
        },
        {
            "cell_type": "code",
            "execution_count": 0,
            "metadata": {
                "collapsed": true,
                "scrolled": false
            },
            "outputs": [],
            "source": "d()"
        },
        {
            "cell_type": "code",
            "execution_count": 0,
            "metadata": {
                "collapsed": true,
                "scrolled": false
            },
            "outputs": [],
            "source": "@cell\ndef e():\n    print(\"Process e\")\n"
        },
        {
            "cell_type": "code",
            "execution_count": 0,
            "metadata": {
                "collapsed": true,
                "scrolled": false
            },
            "outputs": [],
            "source": "e()"
        },
        {
            "cell_type": "code",
            "execution_count": 0,
            "metadata": {
                "collapsed": true,
                "scrolled": false
            },
            "outputs": [],
            "source": "@rocrate    \n@cell\ndef f():\n    print(\"Process f\")\n    e()    \n"
        },
        {
            "cell_type": "code",
            "execution_count": 0,
            "metadata": {
                "collapsed": true,
                "scrolled": false
            },
            "outputs": [],
            "source": "f()"
        },
        {
            "cell_type": "code",
            "execution_count": 0,
            "metadata": {
                "collapsed": true,
                "scrolled": false
            },
            "outputs": [],
            "source": ""
        }
    ]
}